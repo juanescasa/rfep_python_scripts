{
 "cells": [
  {
   "cell_type": "code",
   "execution_count": 69,
   "source": [
    "import gurobipy as grb\r\n",
    "# https://www.youtube.com/watch?v=Copxhl2FShg"
   ],
   "outputs": [],
   "metadata": {}
  },
  {
   "cell_type": "code",
   "execution_count": 22,
   "source": [
    "# Modelfurniture problem\r\n",
    "f = grb.Model('Furniture')"
   ],
   "outputs": [],
   "metadata": {}
  },
  {
   "cell_type": "code",
   "execution_count": 23,
   "source": [
    "# Variables \r\n",
    "x1 = f.addVar(name=\"chairs\")\r\n",
    "x2 = f.addVar(name=\"tables\")"
   ],
   "outputs": [],
   "metadata": {}
  },
  {
   "cell_type": "code",
   "execution_count": 24,
   "source": [
    "# Vamos a maximizar las ganancias por venta de mesas y sillas.\r\n",
    "f.setObjective(45*x1 + 80*x2, GRB.MAXIMIZE)"
   ],
   "outputs": [],
   "metadata": {}
  },
  {
   "cell_type": "code",
   "execution_count": 25,
   "source": [
    "# Restricciones para la producción basa en la disponibilidad de caoba\r\n",
    "# La silla consume 5 y la mesa 20\r\n",
    "f.addConstr(5*x1 +20*x2 <= 400,'mahogany')\r\n",
    "#Restricción para las horas de trabajo necesarias\r\n",
    "f.addConstr(10*x1 + 15*x2 <= 450, 'labor')"
   ],
   "outputs": [
    {
     "output_type": "execute_result",
     "data": {
      "text/plain": [
       "<gurobi.Constr *Awaiting Model Update*>"
      ]
     },
     "metadata": {},
     "execution_count": 25
    }
   ],
   "metadata": {}
  },
  {
   "cell_type": "code",
   "execution_count": 26,
   "source": [
    "f.optimize()"
   ],
   "outputs": [
    {
     "output_type": "stream",
     "name": "stdout",
     "text": [
      "Gurobi Optimizer version 9.1.2 build v9.1.2rc0 (win64)\n",
      "Thread count: 4 physical cores, 8 logical processors, using up to 8 threads\n",
      "Optimize a model with 2 rows, 2 columns and 4 nonzeros\n",
      "Model fingerprint: 0xd0437183\n",
      "Coefficient statistics:\n",
      "  Matrix range     [5e+00, 2e+01]\n",
      "  Objective range  [5e+01, 8e+01]\n",
      "  Bounds range     [0e+00, 0e+00]\n",
      "  RHS range        [4e+02, 5e+02]\n",
      "Presolve time: 0.01s\n",
      "Presolved: 2 rows, 2 columns, 4 nonzeros\n",
      "\n",
      "Iteration    Objective       Primal Inf.    Dual Inf.      Time\n",
      "       0    6.5000000e+31   2.968750e+30   6.500000e+01      0s\n",
      "       2    2.2000000e+03   0.000000e+00   0.000000e+00      0s\n",
      "\n",
      "Solved in 2 iterations and 0.01 seconds\n",
      "Optimal objective  2.200000000e+03\n"
     ]
    }
   ],
   "metadata": {
    "collapsed": true,
    "jupyter": {
     "outputs_hidden": true
    }
   }
  },
  {
   "cell_type": "code",
   "execution_count": 27,
   "source": [
    "# Mostrar resultados\n",
    "for v in f.getVars():\n",
    "    print(f\"{v.varName}: {v.X}\")\n",
    "print('Ganancia óptima total: ',f.objVal)"
   ],
   "outputs": [
    {
     "output_type": "stream",
     "name": "stdout",
     "text": [
      "chairs: 24.0\n",
      "tables: 14.0\n",
      "Ganancia óptima total:  2200.0\n"
     ]
    }
   ],
   "metadata": {}
  },
  {
   "cell_type": "markdown",
   "source": [
    "# No obstante, cuando contamos con muchas variables hay mejores maneras de ingresar los datos."
   ],
   "metadata": {}
  },
  {
   "cell_type": "code",
   "execution_count": 70,
   "source": [
    "# Solución Parametrizada\n",
    "resources, capacity = grb.multidict({\n",
    "    'mahogany': 400,\n",
    "    'labor': 450,\n",
    "})\n",
    "print(resources, capacity)"
   ],
   "outputs": [
    {
     "output_type": "stream",
     "name": "stdout",
     "text": [
      "['mahogany', 'labor'] {'mahogany': 400, 'labor': 450}\n"
     ]
    }
   ],
   "metadata": {}
  },
  {
   "cell_type": "code",
   "execution_count": 71,
   "source": [
    "# products, data\n",
    "products, price = grb.multidict({\n",
    "    'chair':45,\n",
    "    'table': 80,\n",
    "})\n",
    "#products es un set, price es parámetro\n",
    "print(products, price)"
   ],
   "outputs": [
    {
     "output_type": "stream",
     "name": "stdout",
     "text": [
      "['chair', 'table'] {'chair': 45, 'table': 80}\n"
     ]
    }
   ],
   "metadata": {}
  },
  {
   "cell_type": "code",
   "execution_count": 72,
   "source": [
    "# Bill of materials: recursos por producto\n",
    "bom = {\n",
    "    ('mahogany','chair'): 5,\n",
    "    ('mahogany', 'table'): 20,\n",
    "    ('labor', 'chair'): 10,\n",
    "    ('labor', 'table'): 15,\n",
    "}"
   ],
   "outputs": [],
   "metadata": {}
  },
  {
   "cell_type": "code",
   "execution_count": 73,
   "source": [
    "f = grb.Model('Furniture')"
   ],
   "outputs": [],
   "metadata": {}
  },
  {
   "cell_type": "code",
   "execution_count": 74,
   "source": [
    "make = f.addVars(products, name='make')"
   ],
   "outputs": [],
   "metadata": {}
  },
  {
   "cell_type": "code",
   "execution_count": 75,
   "source": [
    "res = f.addConstrs(((sum(bom[r,p]*make[p] for p in products) <= capacity[r]) for r in resources),name='R')"
   ],
   "outputs": [],
   "metadata": {}
  },
  {
   "cell_type": "code",
   "execution_count": 76,
   "source": [
    "f.setObjective(make.prod(price),GRB.MAXIMIZE)"
   ],
   "outputs": [],
   "metadata": {}
  },
  {
   "cell_type": "code",
   "execution_count": 80,
   "source": [
    "f.write('furniture.lp')"
   ],
   "outputs": [],
   "metadata": {}
  },
  {
   "cell_type": "code",
   "execution_count": 78,
   "source": [
    "f.optimize()"
   ],
   "outputs": [
    {
     "output_type": "stream",
     "name": "stdout",
     "text": [
      "Gurobi Optimizer version 9.1.2 build v9.1.2rc0 (win64)\n",
      "Thread count: 4 physical cores, 8 logical processors, using up to 8 threads\n",
      "Optimize a model with 2 rows, 2 columns and 4 nonzeros\n",
      "Model fingerprint: 0xd0437183\n",
      "Coefficient statistics:\n",
      "  Matrix range     [5e+00, 2e+01]\n",
      "  Objective range  [5e+01, 8e+01]\n",
      "  Bounds range     [0e+00, 0e+00]\n",
      "  RHS range        [4e+02, 5e+02]\n",
      "Presolve time: 0.00s\n",
      "Presolved: 2 rows, 2 columns, 4 nonzeros\n",
      "\n",
      "Iteration    Objective       Primal Inf.    Dual Inf.      Time\n",
      "       0    6.5000000e+31   2.968750e+30   6.500000e+01      0s\n",
      "       2    2.2000000e+03   0.000000e+00   0.000000e+00      0s\n",
      "\n",
      "Solved in 2 iterations and 0.01 seconds\n",
      "Optimal objective  2.200000000e+03\n"
     ]
    }
   ],
   "metadata": {}
  },
  {
   "cell_type": "code",
   "execution_count": 79,
   "source": [
    "for v in f.getVars():   \n",
    "    if(abs(v.x)>1e-6):\n",
    "         print(f\"{v.varName}: {v.X}\")\n",
    "print('Ganancia óptima total: ',f.objVal)"
   ],
   "outputs": [
    {
     "output_type": "stream",
     "name": "stdout",
     "text": [
      "make[chair]: 24.0\n",
      "make[table]: 14.0\n",
      "Ganancia óptima total:  2200.0\n"
     ]
    }
   ],
   "metadata": {}
  }
 ],
 "metadata": {
  "kernelspec": {
   "display_name": "Python 3",
   "language": "python",
   "name": "python3"
  },
  "language_info": {
   "codemirror_mode": {
    "name": "ipython",
    "version": 3
   },
   "file_extension": ".py",
   "mimetype": "text/x-python",
   "name": "python",
   "nbconvert_exporter": "python",
   "pygments_lexer": "ipython3",
   "version": "3.8.5"
  }
 },
 "nbformat": 4,
 "nbformat_minor": 4
}